{
 "cells": [
  {
   "cell_type": "code",
   "execution_count": 1,
   "metadata": {},
   "outputs": [],
   "source": [
    "%matplotlib inline\n",
    "import numpy as np\n",
    "import matplotlib.pyplot as plt\n",
    "from ipywidgets import interact, FloatSlider"
   ]
  },
  {
   "cell_type": "code",
   "execution_count": 2,
   "metadata": {
    "collapsed": true
   },
   "outputs": [],
   "source": [
    "def softmax(x1, x2, x3, beta):\n",
    "    \"\"\"Compute softmax probabilities for all actions.\"\"\"\n",
    "    xs = np.array((x1, x2, x3))\n",
    "    num = np.exp(xs * beta)\n",
    "    den = np.exp(xs * beta).sum()\n",
    "    return num / den"
   ]
  },
  {
   "cell_type": "code",
   "execution_count": 3,
   "metadata": {
    "collapsed": true
   },
   "outputs": [],
   "source": [
    "def plot_softmax(x1, x2, x3, beta):\n",
    "    probs = softmax(x1, x2, x3, beta)\n",
    "    y_pos = np.arange(3)\n",
    "    plt.bar(y_pos, probs, align='center')\n",
    "    plt.xticks(y_pos, (r'$P_1$', r'$P_2$', r'$P_3$'))\n",
    "    plt.title('Action probabilities')\n",
    "    plt.ylim(0, 1.1)\n",
    "    txt = r'$\\sum p_i = %.1f$' % probs.sum()\n",
    "    plt.text(1.05, 0.5, txt, transform=plt.gca().transAxes, fontsize=18)"
   ]
  },
  {
   "cell_type": "code",
   "execution_count": 4,
   "metadata": {},
   "outputs": [
    {
     "data": {
      "application/vnd.jupyter.widget-view+json": {
       "model_id": "911ac050200c4f9d9429af0537884b72",
       "version_major": 2,
       "version_minor": 0
      },
      "text/plain": [
       "A Jupyter Widget"
      ]
     },
     "metadata": {},
     "output_type": "display_data"
    }
   ],
   "source": [
    "x1w = FloatSlider(min=0, max=10, step=0.5, value=4)\n",
    "x2w = FloatSlider(min=0, max=10, step=0.5, value=5)\n",
    "x3w = FloatSlider(min=0, max=10, step=0.5, value=6)\n",
    "beta_w = FloatSlider(min=0, max=4, step=0.1, value=0.5)\n",
    "interact(plot_softmax, x1=x1w, x2=x2w, x3=x3w, beta=beta_w);"
   ]
  }
 ],
 "metadata": {
  "anaconda-cloud": {},
  "kernelspec": {
   "display_name": "Python [Root]",
   "language": "python",
   "name": "Python [Root]"
  },
  "language_info": {
   "codemirror_mode": {
    "name": "ipython",
    "version": 3
   },
   "file_extension": ".py",
   "mimetype": "text/x-python",
   "name": "python",
   "nbconvert_exporter": "python",
   "pygments_lexer": "ipython3",
   "version": "3.5.4"
  }
 },
 "nbformat": 4,
 "nbformat_minor": 1
}
