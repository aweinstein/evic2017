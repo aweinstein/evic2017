{
 "cells": [
  {
   "cell_type": "code",
   "execution_count": 2,
   "metadata": {
    "collapsed": true
   },
   "outputs": [],
   "source": [
    "%matplotlib inline\n",
    "import numpy as np\n",
    "import matplotlib.pyplot as plt\n",
    "from ipywidgets import interact, FloatSlider"
   ]
  },
  {
   "cell_type": "code",
   "execution_count": 6,
   "metadata": {
    "collapsed": true
   },
   "outputs": [],
   "source": [
    "def softmax(x1, x2, x3, beta):\n",
    "    \"\"\"Compute softmax probabilities for all actions.\"\"\"\n",
    "    xs = np.array((x1, x2, x3))\n",
    "    num = np.exp(xs * beta)\n",
    "    den = np.exp(xs * beta).sum()\n",
    "    return num / den"
   ]
  },
  {
   "cell_type": "code",
   "execution_count": 33,
   "metadata": {
    "collapsed": true
   },
   "outputs": [],
   "source": [
    "def plot_softmax(x1, x2, x3, beta):\n",
    "    probs = softmax(x1, x2, x3, beta)\n",
    "    y_pos = np.arange(3)\n",
    "    plt.bar(y_pos, probs, align='center')\n",
    "    plt.xticks(y_pos, (r'$P_1$', r'$P_2$', r'$P_3$'))\n",
    "    plt.title('Action probabilities')\n",
    "    plt.ylim(0, 1.1)\n",
    "    txt = r'$\\sum p_i = %.1f$' % probs.sum()\n",
    "    plt.text(1.05, 0.5, txt, transform=plt.gca().transAxes, fontsize=18)"
   ]
  },
  {
   "cell_type": "code",
   "execution_count": 36,
   "metadata": {},
   "outputs": [
    {
     "data": {
      "application/vnd.jupyter.widget-view+json": {
       "model_id": "419a226a509f4d45945112112fe93652",
       "version_major": 2,
       "version_minor": 0
      },
      "text/plain": [
       "A Jupyter Widget"
      ]
     },
     "metadata": {},
     "output_type": "display_data"
    }
   ],
   "source": [
    "x1w = FloatSlider(min=0, max=10, step=0.5, value=4)\n",
    "x2w = FloatSlider(min=0, max=10, step=0.5, value=5)\n",
    "x3w = FloatSlider(min=0, max=10, step=0.5, value=6)\n",
    "beta_w = FloatSlider(min=0, max=4, step=0.1, value=0.5)\n",
    "interact(plot_softmax, x1=x1w, x2=x2w, x3=x3w, beta=beta_w);"
   ]
  }
 ],
 "metadata": {
  "kernelspec": {
   "display_name": "Python 3",
   "language": "python",
   "name": "python3"
  },
  "language_info": {
   "codemirror_mode": {
    "name": "ipython",
    "version": 3
   },
   "file_extension": ".py",
   "mimetype": "text/x-python",
   "name": "python",
   "nbconvert_exporter": "python",
   "pygments_lexer": "ipython3",
   "version": "3.6.3"
  }
 },
 "nbformat": 4,
 "nbformat_minor": 1
}
